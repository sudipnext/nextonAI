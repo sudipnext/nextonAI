{
 "cells": [
  {
   "cell_type": "markdown",
   "metadata": {},
   "source": [
    "# OR gate implementation using Hebian Learning"
   ]
  },
  {
   "cell_type": "code",
   "execution_count": 312,
   "metadata": {},
   "outputs": [],
   "source": [
    "#initialization\n",
    "X1=[1,1,-1,-1]\n",
    "X2=[1,-1,1,-1]\n",
    "y=[1,-1,-1,-1]\n",
    "w1=0\n",
    "w2=0\n",
    "b=0\n"
   ]
  },
  {
   "cell_type": "code",
   "execution_count": 313,
   "metadata": {},
   "outputs": [],
   "source": [
    "def hebbs_rule(x1,x2, b, y, Wold1, Wold2):\n",
    "    delta_w1= x1*y\n",
    "    delta_w2= x2*y\n",
    "    delta_b= y\n",
    "    Wnew1= Wold1+delta_w1\n",
    "    Wnew2= Wold2+delta_w2\n",
    "    bnew= b+delta_b\n",
    "    return Wnew1,Wnew2,bnew"
   ]
  },
  {
   "cell_type": "code",
   "execution_count": 314,
   "metadata": {},
   "outputs": [],
   "source": [
    "def compute_output(x1,x2,b,w1,w2, y):\n",
    "    for i in range(4):\n",
    "        w1,w2,b=hebbs_rule(X1[i],X2[i],b,y[i],w1,w2)\n",
    "        print(w1,w2,b)"
   ]
  },
  {
   "cell_type": "code",
   "execution_count": 315,
   "metadata": {},
   "outputs": [
    {
     "name": "stdout",
     "output_type": "stream",
     "text": [
      "1 1 1\n",
      "0 2 0\n",
      "1 1 -1\n",
      "2 2 -2\n"
     ]
    }
   ],
   "source": [
    "compute_output(X1, X2, b, w1, w2, y)\n"
   ]
  },
  {
   "cell_type": "markdown",
   "metadata": {},
   "source": [
    "# Perceptron Implementation for and gate"
   ]
  },
  {
   "cell_type": "code",
   "execution_count": 316,
   "metadata": {},
   "outputs": [],
   "source": [
    "import numpy as np\n",
    "X1 = [1, 1, -1, -1]\n",
    "X2 = [1, -1, 1, -1]\n",
    "y = [1, -1, -1, -1]\n",
    "w1, w2, b = np.random.rand(3)\n",
    "alpha = 0.1"
   ]
  },
  {
   "cell_type": "code",
   "execution_count": 317,
   "metadata": {},
   "outputs": [],
   "source": [
    "#perceptron activation function\n",
    "def activation(x):\n",
    "    if x > 0:\n",
    "        return 1\n",
    "    else:\n",
    "        return -1"
   ]
  },
  {
   "cell_type": "code",
   "execution_count": 318,
   "metadata": {},
   "outputs": [],
   "source": [
    "def compute_output(x1, x2, b, w1, w2, y):\n",
    "    for i in range(4):\n",
    "        yin = b + w1 * x1[i] + w2 * x2[i]\n",
    "        yout = activation(yin)\n",
    "        print(yout)\n",
    "        if yout != y[i]:\n",
    "            w1 = w1 + alpha * x1[i] * y[i]\n",
    "            w2 = w2 + alpha * x2[i] * y[i]\n",
    "            b = b + alpha * y[i]\n",
    "        return w1, w2, b"
   ]
  },
  {
   "cell_type": "markdown",
   "metadata": {},
   "source": [
    "# Design of OR gate using Adaline  "
   ]
  },
  {
   "cell_type": "code",
   "execution_count": 319,
   "metadata": {},
   "outputs": [],
   "source": [
    "w1=0.1\n",
    "w2=0.1\n",
    "b=0.1\n",
    "error_acceptable = 2\n",
    "x1 = [1, 1, -1, -1]\n",
    "x2 = [1, -1, 1, -1]\n",
    "y = [1, 1, 1, -1]\n",
    "alpha = 0.1\n",
    "error_sum = 0"
   ]
  },
  {
   "cell_type": "code",
   "execution_count": 320,
   "metadata": {},
   "outputs": [],
   "source": [
    "def adaline_rule(x1, x2, b, y, w1, w2, alpha, error_acceptable, max_epochs=1000):\n",
    "    for epoch in range(max_epochs):\n",
    "        error_sum = 0\n",
    "        for i in range(4):\n",
    "            y_input = b + w1 * x1[i] + w2 * x2[i]\n",
    "            delta_w1 = alpha * (y[i] - y_input) * x1[i]\n",
    "            w1 = w1 + delta_w1\n",
    "            delta_w2 = alpha * (y[i] - y_input) * x2[i]\n",
    "            w2 = w2 + delta_w2\n",
    "            delta_b = alpha * (y[i] - y_input)\n",
    "            b = b + delta_b\n",
    "            error = (y[i] - y_input) ** 2\n",
    "            error_sum += error\n",
    "        if error_sum < error_acceptable:\n",
    "            break\n",
    "    return w1, w2, b, error_sum"
   ]
  },
  {
   "cell_type": "code",
   "execution_count": 321,
   "metadata": {},
   "outputs": [
    {
     "data": {
      "text/plain": [
       "(0.36305653300000007,\n",
       " 0.38804059300000004,\n",
       " 0.33623806700000003,\n",
       " 1.9384466295901872)"
      ]
     },
     "execution_count": 321,
     "metadata": {},
     "output_type": "execute_result"
    }
   ],
   "source": [
    "adaline_rule(x1, x2, b, y, w1, w2, alpha, error_acceptable=2, max_epochs=2)"
   ]
  },
  {
   "cell_type": "markdown",
   "metadata": {},
   "source": [
    "## And Gate using Neural Network"
   ]
  },
  {
   "cell_type": "code",
   "execution_count": 322,
   "metadata": {},
   "outputs": [],
   "source": [
    "import numpy as np\n",
    "X1 = [1, 1, -1, -1]\n",
    "X2 = [1, -1, 1, -1]\n",
    "y = [1, -1, -1, -1]\n",
    "w1, w2, w3, w4, w5, w6, b1, b2, b3 = np.random.rand(9)\n",
    "alpha = 0.01\n"
   ]
  },
  {
   "cell_type": "code",
   "execution_count": 323,
   "metadata": {},
   "outputs": [],
   "source": [
    "def sigmoid(x):\n",
    "    return 1 / (1 + np.exp(-x))"
   ]
  },
  {
   "cell_type": "code",
   "execution_count": 324,
   "metadata": {},
   "outputs": [],
   "source": [
    "import numpy as np\n",
    "import matplotlib.pyplot as plt\n",
    "\n",
    "# Data and initial weights/biases\n",
    "X1 = [1, 1, -1, -1]\n",
    "X2 = [1, -1, 1, -1]\n",
    "y = [1, -1, -1, -1]\n",
    "w1, w2, w3, w4, w5, w6, b1, b2, b3 =np.random.randn(9) * 0.01\n",
    "alpha = 0.1\n",
    "\n",
    "# Sigmoid function\n",
    "def sigmoid(x):\n",
    "    return 1 / (1 + np.exp(-x))\n",
    "\n",
    "# Forward propagation\n",
    "def forward_propagation(x1, x2, b1, b2, b3, w1, w2, w3, w4, w5, w6):\n",
    "    z1 = b1 + w1 * x1 + w3 * x2\n",
    "    z2 = b2 + w2 * x1 + w4 * x2\n",
    "    h1 = sigmoid(z1)\n",
    "    h2 = sigmoid(z2)\n",
    "    z3 = b3 + w5 * h1 + w6 * h2\n",
    "    o = sigmoid(z3)\n",
    "    return z1, z2, h1, h2, z3, o\n",
    "\n"
   ]
  },
  {
   "cell_type": "code",
   "execution_count": 325,
   "metadata": {},
   "outputs": [],
   "source": [
    "# Backpropagation\n",
    "def backpropagation(x1, x2, w1, w2, w3, w4, w5, w6, b1, b2, b3, actual, o, h1, h2, alpha):\n",
    "    # Output layer\n",
    "    d_loss_wrt_output = o - actual\n",
    "    \n",
    "    # Gradients for weights and biases\n",
    "    d_loss_wrt_w5 = d_loss_wrt_output * o * (1 - o) * h1\n",
    "    d_loss_wrt_w6 = d_loss_wrt_output * o * (1 - o) * h2\n",
    "    d_loss_wrt_w1 = d_loss_wrt_output * o * (1 - o) * w5 * h1 * (1 - h1) * x1\n",
    "    d_loss_wrt_w2 = d_loss_wrt_output * o * (1 - o) * w6 * h2 * (1 - h2) * x1\n",
    "    d_loss_wrt_w3 = d_loss_wrt_output * o * (1 - o) * w5 * h1 * (1 - h1) * x2\n",
    "    d_loss_wrt_w4 = d_loss_wrt_output * o * (1 - o) * w6 * h2 * (1 - h2) * x2\n",
    "    d_loss_wrt_b3 = d_loss_wrt_output * o * (1 - o)\n",
    "    d_loss_wrt_b1 = d_loss_wrt_output * o * (1 - o) * w5 * h1 * (1 - h1)\n",
    "    d_loss_wrt_b2 = d_loss_wrt_output * o * (1 - o) * w6 * h2 * (1 - h2)\n",
    "\n",
    "    # Updating weights and biases\n",
    "    w5 -= alpha * d_loss_wrt_w5\n",
    "    w6 -= alpha * d_loss_wrt_w6\n",
    "    w1 -= alpha * d_loss_wrt_w1\n",
    "    w2 -= alpha * d_loss_wrt_w2\n",
    "    w3 -= alpha * d_loss_wrt_w3\n",
    "    w4 -= alpha * d_loss_wrt_w4\n",
    "    b1 -= alpha * d_loss_wrt_b1\n",
    "    b2 -= alpha * d_loss_wrt_b2\n",
    "    b3 -= alpha * d_loss_wrt_b3\n",
    "\n",
    "    return w1, w2, w3, w4, w5, w6, b1, b2, b3\n"
   ]
  },
  {
   "cell_type": "code",
   "execution_count": 326,
   "metadata": {},
   "outputs": [
    {
     "data": {
      "image/png": "[encoded data removed]",
      "text/plain": [
       "<Figure size 640x480 with 1 Axes>"
      ]
     },
     "metadata": {},
     "output_type": "display_data"
    }
   ],
   "source": [
    "\n",
    "# Training the network\n",
    "losses = []\n",
    "for epoch in range(10000):\n",
    "    total_loss = 0\n",
    "    for x1, x2, actual in zip(X1, X2, y):\n",
    "        z1, z2, h1, h2, z3, o = forward_propagation(x1, x2, b1, b2, b3, w1, w2, w3, w4, w5, w6)\n",
    "        total_loss += 0.5 * (o - actual) ** 2  # Mean Squared Error\n",
    "        w1, w2, w3, w4, w5, w6, b1, b2, b3 = backpropagation(x1, x2, w1, w2, w3, w4, w5, w6, b1, b2, b3, actual, o, h1, h2, alpha)\n",
    "    losses.append(total_loss)\n",
    "\n",
    "# Plotting the loss over iterations\n",
    "plt.plot(losses)\n",
    "plt.xlabel('Epochs')\n",
    "plt.ylabel('Loss')\n",
    "plt.title('Loss over Epochs')\n",
    "plt.show()\n"
   ]
  },
  {
   "cell_type": "code",
   "execution_count": null,
   "metadata": {},
   "outputs": [],
   "source": []
  }
 ],
 "metadata": {
  "kernelspec": {
   "display_name": "Python 3",
   "language": "python",
   "name": "python3"
  },
  "language_info": {
   "codemirror_mode": {
    "name": "ipython",
    "version": 3
   },
   "file_extension": ".py",
   "mimetype": "text/x-python",
   "name": "python",
   "nbconvert_exporter": "python",
   "pygments_lexer": "ipython3",
   "version": "3.10.12"
  }
 },
 "nbformat": 4,
 "nbformat_minor": 2
}
