{
 "cells": [
  {
   "cell_type": "markdown",
   "metadata": {},
   "source": [
    "# Lab 2: Some Games\n",
    "\n",
    "**Done By:**\n",
    "- Name: Sudip Parajuli\n",
    "- Roll: PUR077BEI041\n",
    "- Faculty: BEI\n",
    "\n",
    "**Submitted To:**\n",
    "- Name: Pukar Karki\n",
    "- Department of Electronics and Computer Engineering \n",
    "- IOE Purwanchal Campus, Dharan"
   ]
  },
  {
   "cell_type": "markdown",
   "metadata": {},
   "source": [
    "## Crypto Arithmetic Problem"
   ]
  },
  {
   "cell_type": "code",
   "execution_count": 1,
   "metadata": {},
   "outputs": [
    {
     "name": "stdout",
     "output_type": "stream",
     "text": [
      "Solution found: {'L': 9, 'R': 8, 'C': 2, 'G': 4, 'P': 1, 'O': 0, 'I': 5}\n",
      "LOGIC = 90452, LOGIC = 90452, PROLOG = 180904\n"
     ]
    },
    {
     "data": {
      "text/plain": [
       "True"
      ]
     },
     "execution_count": 1,
     "metadata": {},
     "output_type": "execute_result"
    }
   ],
   "source": [
    "# Internet Copied need to do this with genetic algorithm\n",
    "from itertools import permutations\n",
    "\n",
    "digits=[0,1,2,3,4,5,6,7,8,9]\n",
    "word1 = \"LOGIC\"\n",
    "word2 = \"LOGIC\"\n",
    "word3 = \"PROLOG\"\n",
    "mapped_output = {}\n",
    "\n",
    "\n",
    "def word_to_number(word):\n",
    "    number = 0\n",
    "    for i in range(len(word)):\n",
    "        number = number*10 + mapped_output[word[i]]\n",
    "    return number\n",
    "\n",
    "def check_solution():\n",
    "    if word_to_number(word1) + word_to_number(word2) == word_to_number(word3):\n",
    "        return True\n",
    "    return False\n",
    "\n",
    "\n",
    "def solve_cryptarithmetic():\n",
    "    global mapped_output\n",
    "    letters = set(word1 + word2 + word3)  # Collect all unique letters\n",
    "    if len(letters) > 10:  # If there are more than 10 unique letters, it's unsolvable\n",
    "        return False\n",
    "\n",
    "    for perm in permutations(digits, len(letters)):\n",
    "        mapped_output = dict(zip(letters, perm))\n",
    "\n",
    "        # Convert the first letter of each word to ensure it's not mapped to 0\n",
    "        if mapped_output[word1[0]] == 0 or mapped_output[word2[0]] == 0 or mapped_output[word3[0]] == 0:\n",
    "            continue\n",
    "\n",
    "        if check_solution():\n",
    "            print(f\"Solution found: {mapped_output}\")\n",
    "            print(f\"{word1} = {word_to_number(word1)}, {word2} = {word_to_number(word2)}, {word3} = {word_to_number(word3)}\")\n",
    "            return True\n",
    "\n",
    "    print(\"No solution found.\")\n",
    "    return False\n",
    "\n",
    "solve_cryptarithmetic()\n"
   ]
  },
  {
   "cell_type": "markdown",
   "metadata": {},
   "source": [
    "# Suduko Problem"
   ]
  },
  {
   "cell_type": "code",
   "execution_count": 13,
   "metadata": {},
   "outputs": [
    {
     "name": "stdout",
     "output_type": "stream",
     "text": [
      "[[5 3 4 6 7 8 9 1 2]\n",
      " [6 7 2 1 9 5 3 4 8]\n",
      " [1 9 8 3 4 2 5 6 7]\n",
      " [8 5 9 7 6 1 4 2 3]\n",
      " [4 2 6 8 5 3 7 9 1]\n",
      " [7 1 3 9 2 4 8 5 6]\n",
      " [9 6 1 5 3 7 2 8 4]\n",
      " [2 8 7 4 1 9 6 3 5]\n",
      " [3 4 5 2 8 6 1 7 9]]\n"
     ]
    }
   ],
   "source": [
    "import numpy as np\n",
    "\n",
    "board = [[5, 3, 0, 0, 7, 0, 0, 0, 0],\n",
    "         [6, 0, 0, 1, 9, 5, 0, 0, 0],\n",
    "         [0, 9, 8, 0, 0, 0, 0, 6, 0],\n",
    "         [8, 0, 0, 0, 6, 0, 0, 0, 3],\n",
    "         [4, 0, 0, 8, 0, 3, 0, 0, 1],\n",
    "         [7, 0, 0, 0, 2, 0, 0, 0, 6],\n",
    "         [0, 6, 0, 0, 0, 0, 2, 8, 0],\n",
    "         [0, 0, 0, 4, 1, 9, 0, 0, 5],\n",
    "         [0, 0, 0, 0, 8, 0, 0, 7, 9]]\n",
    "\n",
    "solved = False  # Flag to indicate if the solution is found\n",
    "\n",
    "def is_possible(row, col, number):\n",
    "    \"\"\"\n",
    "    Returns True if the given number can be placed at the given row and column\n",
    "    \"\"\"\n",
    "    global board\n",
    "    for x in range(9):\n",
    "        if board[row][x] == number or board[x][col] == number:\n",
    "            return False\n",
    "\n",
    "    x0 = (row // 3) * 3\n",
    "    y0 = (col // 3) * 3\n",
    "    for i in range(3):\n",
    "        for j in range(3):\n",
    "            if board[x0 + i][y0 + j] == number:\n",
    "                return False\n",
    "    return True\n",
    "\n",
    "def solve():\n",
    "    \"\"\"\n",
    "    Solves the Sudoku board using backtracking\n",
    "    \"\"\"\n",
    "    global board, solved\n",
    "    for i in range(9):\n",
    "        for j in range(9):\n",
    "            if board[i][j] == 0:\n",
    "                for number in range(1, 10):\n",
    "                    if is_possible(i, j, number):\n",
    "                        board[i][j] = number\n",
    "                        solve()\n",
    "                        if solved:\n",
    "                            return\n",
    "                        board[i][j] = 0\n",
    "                return\n",
    "    print(np.matrix(board))\n",
    "    solved = True\n",
    "\n",
    "solve()\n",
    "if not solved:\n",
    "    print(\"No solution found.\")\n"
   ]
  },
  {
   "cell_type": "markdown",
   "metadata": {},
   "source": [
    "## Bot Saved Princess Problem"
   ]
  },
  {
   "cell_type": "code",
   "execution_count": 3,
   "metadata": {},
   "outputs": [
    {
     "name": "stdout",
     "output_type": "stream",
     "text": [
      "DOWN\n",
      "DOWN\n",
      "LEFT\n"
     ]
    }
   ],
   "source": [
    "def displayPathtoPrincess(n, grid):\n",
    "    posM = []\n",
    "    posP = []\n",
    "\n",
    "    # Find positions of 'm' and 'p'\n",
    "    for x in range(n):\n",
    "        for y in range(n):\n",
    "            if grid[x][y] == 'm':\n",
    "                posM = [x, y]\n",
    "            elif grid[x][y] == 'p':\n",
    "                posP = [x, y]\n",
    "\n",
    "    Mx, My = posM\n",
    "    Px, Py = posP\n",
    "\n",
    "    # Determine vertical moves\n",
    "    while Mx != Px:\n",
    "        if Mx > Px:\n",
    "            print(\"UP\")\n",
    "            Mx -= 1\n",
    "        elif Mx < Px:\n",
    "            print(\"DOWN\")\n",
    "            Mx += 1\n",
    "\n",
    "    # Determine horizontal moves\n",
    "    while My != Py:\n",
    "        if My > Py:\n",
    "            print(\"LEFT\")\n",
    "            My -= 1\n",
    "        elif My < Py:\n",
    "            print(\"RIGHT\")\n",
    "            My += 1\n",
    "        \n",
    "# Add dummy input\n",
    "m = 3\n",
    "grid = [\n",
    "    \"--m\",\n",
    "    \"---\",\n",
    "    \"-p-\"\n",
    "]\n",
    "\n",
    "displayPathtoPrincess(m, grid)"
   ]
  }
 ],
 "metadata": {
  "kernelspec": {
   "display_name": "Python 3",
   "language": "python",
   "name": "python3"
  },
  "language_info": {
   "codemirror_mode": {
    "name": "ipython",
    "version": 3
   },
   "file_extension": ".py",
   "mimetype": "text/x-python",
   "name": "python",
   "nbconvert_exporter": "python",
   "pygments_lexer": "ipython3",
   "version": "3.10.12"
  }
 },
 "nbformat": 4,
 "nbformat_minor": 2
}
