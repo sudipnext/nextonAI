{
 "cells": [
  {
   "cell_type": "markdown",
   "metadata": {},
   "source": [
    "## Crypto Arithmetic Problem"
   ]
  },
  {
   "cell_type": "code",
   "execution_count": 2,
   "metadata": {},
   "outputs": [
    {
     "name": "stdout",
     "output_type": "stream",
     "text": [
      "Solution found: {'R': 8, 'L': 9, 'O': 0, 'C': 2, 'G': 4, 'P': 1, 'I': 5}\n",
      "LOGIC = 90452, LOGIC = 90452, PROLOG = 180904\n"
     ]
    },
    {
     "data": {
      "text/plain": [
       "True"
      ]
     },
     "execution_count": 2,
     "metadata": {},
     "output_type": "execute_result"
    }
   ],
   "source": [
    "from itertools import permutations\n",
    "\n",
    "digits=[0,1,2,3,4,5,6,7,8,9]\n",
    "word1 = \"LOGIC\"\n",
    "word2 = \"LOGIC\"\n",
    "word3 = \"PROLOG\"\n",
    "mapped_output = {}\n",
    "\n",
    "\n",
    "def word_to_number(word):\n",
    "    number = 0\n",
    "    for i in range(len(word)):\n",
    "        number = number*10 + mapped_output[word[i]]\n",
    "    return number\n",
    "\n",
    "def check_solution():\n",
    "    if word_to_number(word1) + word_to_number(word2) == word_to_number(word3):\n",
    "        return True\n",
    "    return False\n",
    "\n",
    "\n",
    "def solve_cryptarithmetic():\n",
    "    global mapped_output\n",
    "    letters = set(word1 + word2 + word3)  # Collect all unique letters\n",
    "    if len(letters) > 10:  # If there are more than 10 unique letters, it's unsolvable\n",
    "        return False\n",
    "\n",
    "    for perm in permutations(digits, len(letters)):\n",
    "        mapped_output = dict(zip(letters, perm))\n",
    "\n",
    "        # Convert the first letter of each word to ensure it's not mapped to 0\n",
    "        if mapped_output[word1[0]] == 0 or mapped_output[word2[0]] == 0 or mapped_output[word3[0]] == 0:\n",
    "            continue\n",
    "\n",
    "        if check_solution():\n",
    "            print(f\"Solution found: {mapped_output}\")\n",
    "            print(f\"{word1} = {word_to_number(word1)}, {word2} = {word_to_number(word2)}, {word3} = {word_to_number(word3)}\")\n",
    "            return True\n",
    "\n",
    "    print(\"No solution found.\")\n",
    "    return False\n",
    "\n",
    "solve_cryptarithmetic()\n"
   ]
  }
 ],
 "metadata": {
  "kernelspec": {
   "display_name": "Python 3",
   "language": "python",
   "name": "python3"
  },
  "language_info": {
   "codemirror_mode": {
    "name": "ipython",
    "version": 3
   },
   "file_extension": ".py",
   "mimetype": "text/x-python",
   "name": "python",
   "nbconvert_exporter": "python",
   "pygments_lexer": "ipython3",
   "version": "3.10.12"
  }
 },
 "nbformat": 4,
 "nbformat_minor": 2
}
